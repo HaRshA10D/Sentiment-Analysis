{
 "cells": [
  {
   "cell_type": "code",
   "execution_count": 1,
   "metadata": {
    "collapsed": true
   },
   "outputs": [],
   "source": [
    "from bs4 import BeautifulSoup\n",
    "import urllib3\n",
    "import re\n",
    "\n",
    "import requests\n",
    "from requests.packages.urllib3.exceptions import InsecureRequestWarning\n",
    "\n",
    "requests.packages.urllib3.disable_warnings(InsecureRequestWarning)"
   ]
  },
  {
   "cell_type": "code",
   "execution_count": 2,
   "metadata": {},
   "outputs": [
    {
     "name": "stderr",
     "output_type": "stream",
     "text": [
      "C:\\ProgramData\\Anaconda3\\lib\\site-packages\\urllib3\\connectionpool.py:852: InsecureRequestWarning: Unverified HTTPS request is being made. Adding certificate verification is strongly advised. See: https://urllib3.readthedocs.io/en/latest/advanced-usage.html#ssl-warnings\n",
      "  InsecureRequestWarning)\n",
      "C:\\ProgramData\\Anaconda3\\lib\\site-packages\\bs4\\__init__.py:181: UserWarning: No parser was explicitly specified, so I'm using the best available HTML parser for this system (\"lxml\"). This usually isn't a problem, but if you run this code on another system, or in a different virtual environment, it may use a different parser and behave differently.\n",
      "\n",
      "The code that caused this warning is on line 193 of the file C:\\ProgramData\\Anaconda3\\lib\\runpy.py. To get rid of this warning, change code that looks like this:\n",
      "\n",
      " BeautifulSoup(YOUR_MARKUP})\n",
      "\n",
      "to this:\n",
      "\n",
      " BeautifulSoup(YOUR_MARKUP, \"lxml\")\n",
      "\n",
      "  markup_type=markup_type))\n"
     ]
    }
   ],
   "source": [
    "http = urllib3.PoolManager()\n",
    "\n",
    "i = 0\n",
    "url = 'https://www.snapdeal.com/product/samsung-24k4100-59-cm-24/631655585656'+'/reviews?page='+str(i+1)+'&sortBy=RECENCY'\n",
    "response = http.request('GET', url)\n",
    "soup = BeautifulSoup(response.data)"
   ]
  },
  {
   "cell_type": "code",
   "execution_count": 3,
   "metadata": {},
   "outputs": [],
   "source": [
    "titles,reviews = [],[]\n",
    "import nltk\n",
    "words = set(nltk.corpus.words.words())\n",
    "while(soup.find(id='defaultReviewsCard') != None):\n",
    "    \n",
    "    for x in soup.find(id='defaultReviewsCard').find_all('p'):\n",
    "        if x == None:\n",
    "            review = 'No Title'\n",
    "        else:\n",
    "            review = x.string\n",
    "            \n",
    "        review = \" \".join(re.findall(\"[a-zA-Z]+\", review))\n",
    "        review = \" \".join(w for w in nltk.wordpunct_tokenize(review) if w.lower() in words or not w.isalpha())\n",
    "        \n",
    "        reviews.append(review)\n",
    "    \n",
    "    for x in soup.find(id='defaultReviewsCard').find_all(\"div\",{\"class\":\"head\"}):\n",
    "        if x == None:\n",
    "            title = 'No Title'\n",
    "        else:\n",
    "            title = x.string\n",
    "        \n",
    "        title = \" \".join(re.findall(\"[a-zA-Z]+\", title))\n",
    "        title = \" \".join(w for w in nltk.wordpunct_tokenize(title) if w.lower() in words or not w.isalpha())\n",
    "        \n",
    "        titles.append(title)\n",
    "        \n",
    "    m = 0\n",
    "    while(m < len(soup.find(id='defaultReviewsCard').find_all(\"div\",{\"class\":\"head\"}))):\n",
    "        print('Review : %d'%(i*10+(m+1)))\n",
    "        print('Title : %s'%titles[i*10+m])\n",
    "        print('Content : %s'%reviews[i*10+m])\n",
    "        print('***--------------***') \n",
    "        m += 1\n",
    "    \n",
    "    i += 1\n",
    "    url = 'https://www.snapdeal.com/product/samsung-24k4100-59-cm-24/631655585656'+'/reviews?page='+str(i+1)+'&sortBy=RECENCY'\n",
    "    response = http.request('GET', url)\n",
    "    soup = BeautifulSoup(response.data)"
   ]
  },
  {
   "cell_type": "code",
   "execution_count": 4,
   "metadata": {
    "collapsed": true
   },
   "outputs": [],
   "source": [
    "import pandas as pd\n",
    "total = list(zip(titles,reviews))\n",
    "df = pd.DataFrame(data = total, columns = ['Title','Review'])"
   ]
  },
  {
   "cell_type": "code",
   "execution_count": 5,
   "metadata": {},
   "outputs": [
    {
     "data": {
      "text/html": [
       "<div>\n",
       "<style>\n",
       "    .dataframe thead tr:only-child th {\n",
       "        text-align: right;\n",
       "    }\n",
       "\n",
       "    .dataframe thead th {\n",
       "        text-align: left;\n",
       "    }\n",
       "\n",
       "    .dataframe tbody tr th {\n",
       "        vertical-align: top;\n",
       "    }\n",
       "</style>\n",
       "<table border=\"1\" class=\"dataframe\">\n",
       "  <thead>\n",
       "    <tr style=\"text-align: right;\">\n",
       "      <th></th>\n",
       "      <th>Title</th>\n",
       "      <th>Review</th>\n",
       "    </tr>\n",
       "  </thead>\n",
       "  <tbody>\n",
       "  </tbody>\n",
       "</table>\n",
       "</div>"
      ],
      "text/plain": [
       "Empty DataFrame\n",
       "Columns: [Title, Review]\n",
       "Index: []"
      ]
     },
     "execution_count": 5,
     "metadata": {},
     "output_type": "execute_result"
    }
   ],
   "source": [
    "df.to_csv('samsung-24k4100-59-cm-24.csv',index=False,header=False)\n",
    "df"
   ]
  },
  {
   "cell_type": "code",
   "execution_count": 6,
   "metadata": {},
   "outputs": [
    {
     "data": {
      "image/png": "[encoded data removed]",
      "text/plain": [
       "<matplotlib.figure.Figure at 0xe13a2bf080>"
      ]
     },
     "metadata": {},
     "output_type": "display_data"
    }
   ],
   "source": [
    "from textblob import TextBlob\n",
    "import numpy as np\n",
    "\n",
    "i = 1\n",
    "x_points = []\n",
    "y_points = []\n",
    "        \n",
    "all_senti = 0.0\n",
    "for rev in reviews:\n",
    "    lines = rev.split('.')\n",
    "    polarity = 0.0\n",
    "    x = 0\n",
    "    for line in lines:\n",
    "        tb = TextBlob(line)\n",
    "        line_pol = tb.sentiment.polarity\n",
    "        polarity += line_pol\n",
    "        if(line_pol!=0.0) : x += 1\n",
    "    polarity += TextBlob(titles[i-1]).sentiment.polarity\n",
    "    total_senti = polarity/float(x+1)\n",
    "    all_senti += total_senti \n",
    "    x_points.append(i)\n",
    "    y_points.append(total_senti)\n",
    "    print('polarity of review no: %d = %f'%(i,total_senti))\n",
    "    i += 1\n",
    "        \n",
    "all_senti = all_senti/float(i)\n",
    "    \n",
    "y = np.tile(all_senti,(i-1,1))\n",
    "    \n",
    "import matplotlib.pyplot as plt\n",
    "plt.plot(x_points,y_points)\n",
    "plt.plot(x_points,y)\n",
    "plt.xlabel('Review number')\n",
    "plt.ylabel('Polarity')\n",
    "plt.savefig('samsung-24k4100-59-cm-24')\n",
    "plt.show()"
   ]
  },
  {
   "cell_type": "code",
   "execution_count": null,
   "metadata": {
    "collapsed": true
   },
   "outputs": [],
   "source": []
  }
 ],
 "metadata": {
  "kernelspec": {
   "display_name": "Python 3",
   "language": "python",
   "name": "python3"
  },
  "language_info": {
   "codemirror_mode": {
    "name": "ipython",
    "version": 3
   },
   "file_extension": ".py",
   "mimetype": "text/x-python",
   "name": "python",
   "nbconvert_exporter": "python",
   "pygments_lexer": "ipython3",
   "version": "3.6.1"
  }
 },
 "nbformat": 4,
 "nbformat_minor": 2
}
