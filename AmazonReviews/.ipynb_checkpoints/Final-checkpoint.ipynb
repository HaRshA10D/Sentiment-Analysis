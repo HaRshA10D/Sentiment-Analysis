{
 "cells": [
  {
   "cell_type": "code",
   "execution_count": 1,
   "metadata": {
    "collapsed": true
   },
   "outputs": [],
   "source": [
    "import AmazonReviewFunc as az"
   ]
  },
  {
   "cell_type": "code",
   "execution_count": 2,
   "metadata": {
    "scrolled": false
   },
   "outputs": [
    {
     "name": "stdout",
     "output_type": "stream",
     "text": [
      "Review : 1\n",
      "Title : Five Stars\n",
      "Content : Good Product. Delivered in perfect condition. Working fine. Happy.\n",
      "***--------------***\n",
      "Review : 2\n",
      "Title : No Title\n",
      "Content : None\n",
      "***--------------***\n",
      "Review : 3\n",
      "Title : Product is good.. Only problem is with the OS\n",
      "Content : Product is good..\n",
      "Only problem is with the OS....\n",
      "If this product is given with Windows OS (at least linux) then it would be a better product..\n",
      "***--------------***\n",
      "Review : 4\n",
      "Title : Three Stars\n",
      "Content : Not expected quality of the product..\n",
      "***--------------***\n",
      "Review : 5\n",
      "Title : Identify duplicate or original product\n",
      "Content : This product duplicate or original??\n",
      "***--------------***\n",
      "Review : 6\n",
      "Title : Five Stars\n",
      "Content : Good product\n",
      "***--------------***\n",
      "Review : 7\n",
      "Title : product is just awesome..\n",
      "Content : cheers to amazon!!...i got the order by next day.r .product is just awesome...Moreover ,i hv got a gift card of Rs.1500!!!thnkxxx amazon!\n",
      "***--------------***\n",
      "Review : 8\n",
      "Title : No Title\n",
      "Content : None\n",
      "***--------------***\n",
      "Review : 9\n",
      "Title : No Title\n",
      "Content : None\n",
      "***--------------***\n",
      "Review : 10\n",
      "Title : Five Stars\n",
      "Content : Lowest cost\n",
      "***--------------***\n"
     ]
    }
   ],
   "source": [
    "text,title,name = az.initialize('B06X3WR2P4')"
   ]
  },
  {
   "cell_type": "code",
   "execution_count": 3,
   "metadata": {},
   "outputs": [],
   "source": [
    "import pandas as pd\n",
    "total = list(zip(title,text))\n",
    "df = pd.DataFrame(data = total, columns = ['Title','Review'])"
   ]
  },
  {
   "cell_type": "code",
   "execution_count": 4,
   "metadata": {},
   "outputs": [
    {
     "data": {
      "text/html": [
       "<div>\n",
       "<style>\n",
       "    .dataframe thead tr:only-child th {\n",
       "        text-align: right;\n",
       "    }\n",
       "\n",
       "    .dataframe thead th {\n",
       "        text-align: left;\n",
       "    }\n",
       "\n",
       "    .dataframe tbody tr th {\n",
       "        vertical-align: top;\n",
       "    }\n",
       "</style>\n",
       "<table border=\"1\" class=\"dataframe\">\n",
       "  <thead>\n",
       "    <tr style=\"text-align: right;\">\n",
       "      <th></th>\n",
       "      <th>Title</th>\n",
       "      <th>Review</th>\n",
       "    </tr>\n",
       "  </thead>\n",
       "  <tbody>\n",
       "    <tr>\n",
       "      <th>0</th>\n",
       "      <td>Five Stars</td>\n",
       "      <td>Good Product. Delivered in perfect condition. ...</td>\n",
       "    </tr>\n",
       "    <tr>\n",
       "      <th>1</th>\n",
       "      <td>No Title</td>\n",
       "      <td>None</td>\n",
       "    </tr>\n",
       "    <tr>\n",
       "      <th>2</th>\n",
       "      <td>Product is good.. Only problem is with the OS</td>\n",
       "      <td>Product is good..\\nOnly problem is with the OS...</td>\n",
       "    </tr>\n",
       "    <tr>\n",
       "      <th>3</th>\n",
       "      <td>Three Stars</td>\n",
       "      <td>Not expected quality of the product..</td>\n",
       "    </tr>\n",
       "    <tr>\n",
       "      <th>4</th>\n",
       "      <td>Identify duplicate or original product</td>\n",
       "      <td>This product duplicate or original??</td>\n",
       "    </tr>\n",
       "    <tr>\n",
       "      <th>5</th>\n",
       "      <td>Five Stars</td>\n",
       "      <td>Good product</td>\n",
       "    </tr>\n",
       "    <tr>\n",
       "      <th>6</th>\n",
       "      <td>product is just awesome..</td>\n",
       "      <td>cheers to amazon!!...i got the order by next d...</td>\n",
       "    </tr>\n",
       "    <tr>\n",
       "      <th>7</th>\n",
       "      <td>No Title</td>\n",
       "      <td>None</td>\n",
       "    </tr>\n",
       "    <tr>\n",
       "      <th>8</th>\n",
       "      <td>No Title</td>\n",
       "      <td>None</td>\n",
       "    </tr>\n",
       "    <tr>\n",
       "      <th>9</th>\n",
       "      <td>Five Stars</td>\n",
       "      <td>Lowest cost</td>\n",
       "    </tr>\n",
       "  </tbody>\n",
       "</table>\n",
       "</div>"
      ],
      "text/plain": [
       "                                           Title  \\\n",
       "0                                     Five Stars   \n",
       "1                                       No Title   \n",
       "2  Product is good.. Only problem is with the OS   \n",
       "3                                    Three Stars   \n",
       "4         Identify duplicate or original product   \n",
       "5                                     Five Stars   \n",
       "6                      product is just awesome..   \n",
       "7                                       No Title   \n",
       "8                                       No Title   \n",
       "9                                     Five Stars   \n",
       "\n",
       "                                              Review  \n",
       "0  Good Product. Delivered in perfect condition. ...  \n",
       "1                                               None  \n",
       "2  Product is good..\\nOnly problem is with the OS...  \n",
       "3              Not expected quality of the product..  \n",
       "4               This product duplicate or original??  \n",
       "5                                       Good product  \n",
       "6  cheers to amazon!!...i got the order by next d...  \n",
       "7                                               None  \n",
       "8                                               None  \n",
       "9                                        Lowest cost  "
      ]
     },
     "execution_count": 4,
     "metadata": {},
     "output_type": "execute_result"
    }
   ],
   "source": [
    "df"
   ]
  },
  {
   "cell_type": "code",
   "execution_count": 5,
   "metadata": {},
   "outputs": [
    {
     "name": "stdout",
     "output_type": "stream",
     "text": [
      "polarity of review no: 1 = 0.583333\n",
      "polarity of review no: 2 = 0.000000\n",
      "polarity of review no: 3 = 0.383333\n",
      "polarity of review no: 4 = 0.025000\n",
      "polarity of review no: 5 = 0.375000\n",
      "polarity of review no: 6 = 0.350000\n",
      "polarity of review no: 7 = 1.000000\n",
      "polarity of review no: 8 = 0.000000\n",
      "polarity of review no: 9 = 0.000000\n",
      "polarity of review no: 10 = 0.000000\n"
     ]
    },
    {
     "data": {
      "image/png": "[encoded data removed]",
      "text/plain": [
       "<matplotlib.figure.Figure at 0xba371edf28>"
      ]
     },
     "metadata": {},
     "output_type": "display_data"
    }
   ],
   "source": [
    "az.doSentiment(text,title,name)"
   ]
  },
  {
   "cell_type": "code",
   "execution_count": 6,
   "metadata": {
    "collapsed": true
   },
   "outputs": [],
   "source": [
    "df.to_csv(name + '.csv',index=False,header=False)"
   ]
  },
  {
   "cell_type": "code",
   "execution_count": 7,
   "metadata": {},
   "outputs": [
    {
     "data": {
      "text/plain": [
       "'HP 15-be016TU 15-6-inch Laptop (6th Gen Core i3-6006U-4GB-1TB-FreeDOS 2-0-Integrated Graphics), Turbo Silver'"
      ]
     },
     "execution_count": 7,
     "metadata": {},
     "output_type": "execute_result"
    }
   ],
   "source": [
    "name"
   ]
  },
  {
   "cell_type": "code",
   "execution_count": null,
   "metadata": {
    "collapsed": true
   },
   "outputs": [],
   "source": []
  }
 ],
 "metadata": {
  "kernelspec": {
   "display_name": "Python 3",
   "language": "python",
   "name": "python3"
  },
  "language_info": {
   "codemirror_mode": {
    "name": "ipython",
    "version": 3
   },
   "file_extension": ".py",
   "mimetype": "text/x-python",
   "name": "python",
   "nbconvert_exporter": "python",
   "pygments_lexer": "ipython3",
   "version": "3.6.1"
  }
 },
 "nbformat": 4,
 "nbformat_minor": 2
}
